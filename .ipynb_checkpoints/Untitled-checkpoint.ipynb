{
 "cells": [
  {
   "cell_type": "code",
   "execution_count": null,
   "metadata": {},
   "outputs": [],
   "source": []
  },
  {
   "cell_type": "code",
   "execution_count": null,
   "metadata": {},
   "outputs": [],
   "source": [
    "import os\n",
    "import re\n",
    "import time \n",
    "import unidecode as ud\n",
    "\n",
    "n = os.listdir('originais_ordenados2')\n",
    "\n",
    "def escreve(arquivo,ni):\n",
    "    f = open(arquivo,'r', encoding = 'utf8')\n",
    "    x = f.read()\n",
    "    h = ud.unidecode(x)\n",
    "    g = open('originais_ordenados/'+ni, 'a', encoding = 'utf8')\n",
    "    g.write(h)\n",
    "    f.close()\n",
    "    g.close()\n",
    "    \n",
    "def processa():\n",
    "    t0 = time.time()\n",
    "    for i in range(len(n)):\n",
    "        escreve('originais_ordenados2/'+n[i],n[i])\n",
    "        print(i)\n",
    "    print(time.time() - t0)\n",
    "    \n",
    "processa()"
   ]
  },
  {
   "cell_type": "code",
   "execution_count": null,
   "metadata": {},
   "outputs": [],
   "source": []
  },
  {
   "cell_type": "code",
   "execution_count": null,
   "metadata": {},
   "outputs": [],
   "source": []
  },
  {
   "cell_type": "code",
   "execution_count": null,
   "metadata": {},
   "outputs": [],
   "source": []
  },
  {
   "cell_type": "code",
   "execution_count": null,
   "metadata": {},
   "outputs": [],
   "source": []
  }
 ],
 "metadata": {
  "kernelspec": {
   "display_name": "Python 3",
   "language": "python",
   "name": "python3"
  },
  "language_info": {
   "codemirror_mode": {
    "name": "ipython",
    "version": 3
   },
   "file_extension": ".py",
   "mimetype": "text/x-python",
   "name": "python",
   "nbconvert_exporter": "python",
   "pygments_lexer": "ipython3",
   "version": "3.7.6"
  }
 },
 "nbformat": 4,
 "nbformat_minor": 4
}
